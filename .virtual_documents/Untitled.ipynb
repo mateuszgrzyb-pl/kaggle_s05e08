from tools.base import read_data, split_data
from tools.feature_selection import one_dim_analysis
from generalized_additive_models import GAM, Spline, Logit, Binomial
from generalized_additive_models.inspection import PartialEffectDisplay
import matplotlib.pyplot as plt
import seaborn as sns
import pandas as pd
import numpy as np


train, test = read_data()
X_tr, X_va, y_tr, y_va = split_data(train, target='y')


age = Spline("age", penalty=100, num_splines=15)
gam = GAM(terms=age, distribution=Binomial(trials=1), link=Logit())
gam.fit(X_tr, y_tr)


PartialEffectDisplay.from_estimator(
    gam,
    age,
    X_tr,
    y_tr,  # target w subsamplu        # partial residuals
    standard_deviations=2.0
)
plt.show()



